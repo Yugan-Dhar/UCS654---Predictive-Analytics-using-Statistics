{
 "cells": [
  {
   "cell_type": "code",
   "execution_count": 14,
   "id": "1224b5b5-9776-44e1-9027-efe521aaf7c1",
   "metadata": {},
   "outputs": [],
   "source": [
    "# Cell 1: Imports\n",
    "import os\n",
    "from glob import glob\n",
    "import numpy as np\n",
    "import pandas as pd\n",
    "from sklearn.metrics import (\n",
    "    accuracy_score,\n",
    "    precision_score,\n",
    "    recall_score,\n",
    "    f1_score,\n",
    "    confusion_matrix\n",
    ")\n",
    "from transformers import pipeline\n",
    "from tqdm.auto import tqdm\n"
   ]
  },
  {
   "cell_type": "code",
   "execution_count": null,
   "id": "21855a58-f643-4d2b-a9f5-f81cd14dabf3",
   "metadata": {},
   "outputs": [],
   "source": [
    "# Cell 2: load the ready-made HF dataset\n",
    "# — this will stream images under the hood\n",
    "ds = load_dataset(\"prithivMLmods/Deepfake-vs-Real\", split=\"train\")  # ∼ a few thousand images :contentReference[oaicite:0]{index=0}\n",
    "\n",
    "# convert to pandas for easier indexing & metrics\n",
    "df = pd.DataFrame({\n",
    "    \"image\":  ds[\"image\"],           # these are PIL.Image objects\n",
    "    \"label\":  ds[\"label\"]            # 0=Deepfake, 1=Real (or vice versa — always check `ds.features`)\n",
    "})\n",
    "print(f\"Loaded {len(df)} examples\")\n",
    "df.head()\n"
   ]
  }
 ],
 "metadata": {
  "kernelspec": {
   "display_name": "Python 3 (ipykernel)",
   "language": "python",
   "name": "python3"
  },
  "language_info": {
   "codemirror_mode": {
    "name": "ipython",
    "version": 3
   },
   "file_extension": ".py",
   "mimetype": "text/x-python",
   "name": "python",
   "nbconvert_exporter": "python",
   "pygments_lexer": "ipython3",
   "version": "3.12.4"
  }
 },
 "nbformat": 4,
 "nbformat_minor": 5
}
