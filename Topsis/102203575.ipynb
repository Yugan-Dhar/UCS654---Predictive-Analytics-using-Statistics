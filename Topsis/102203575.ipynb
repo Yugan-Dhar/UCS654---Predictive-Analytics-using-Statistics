{
 "cells": [
  {
   "cell_type": "code",
   "execution_count": 6,
   "id": "d7e341e6-2e85-42d2-ab9d-bea18ade0244",
   "metadata": {},
   "outputs": [
    {
     "name": "stdout",
     "output_type": "stream",
     "text": [
      "CSV file has been saved as: 102203575-data.csv\n"
     ]
    }
   ],
   "source": [
    "import pandas as pd\n",
    "\n",
    "\n",
    "input_file = 'data.xlsx'\n",
    "output_file = '102203575-data.csv'\n",
    "\n",
    "\n",
    "data = pd.read_excel(input_file)\n",
    "\n",
    "# Save the excel file as a CSV file\n",
    "data.to_csv(output_file, index=False)\n",
    "print(\"CSV file has been saved as:\", output_file)\n"
   ]
  },
  {
   "cell_type": "code",
   "execution_count": 8,
   "id": "1120fb0f-e0f8-4322-a9e7-627f79167b62",
   "metadata": {},
   "outputs": [
    {
     "name": "stdout",
     "output_type": "stream",
     "text": [
      "  Fund Name    P1    P2   P3    P4     P5  Topsis Score  Rank\n",
      "0        M1  0.84  0.71  6.7  42.1  12.59      0.563692     6\n",
      "1        M2  0.91  0.83  7.0  31.7  10.11      0.513032     5\n",
      "2        M3  0.79  0.62  4.8  46.7  13.23      0.439177     1\n",
      "3        M4  0.78  0.61  6.4  42.4  12.55      0.491956     2\n",
      "4        M5  0.94  0.88  3.6  62.2  16.91      0.641886     4\n",
      "5        M6  0.88  0.77  6.5  51.5  14.91      0.738148     3\n",
      "6        M7  0.66  0.44  5.3  48.9  13.83      0.407390     8\n",
      "7        M8  0.93  0.86  3.4  37.0  10.55      0.408499     7\n",
      "TOPSIS analysis complete. Output saved to C:\\Users\\ydhar\\Downloads\\topsis_output.csv.\n"
     ]
    }
   ],
   "source": [
    "import pandas as pd\n",
    "import numpy as np\n",
    "\n",
    "def topsis(input_file, output_file):\n",
    "  \n",
    "    df = pd.read_csv(input_file)\n",
    "\n",
    "   \n",
    "    fund_names = df.iloc[:, 0]\n",
    "    performance_data = df.iloc[:, 1:].values\n",
    "\n",
    "    \n",
    "    norm_matrix = performance_data / np.sqrt((performance_data ** 2).sum(axis=0))\n",
    "\n",
    "   \n",
    "    weights = np.ones(performance_data.shape[1]) / performance_data.shape[1]\n",
    "    criteria = [\"+\" for _ in range(performance_data.shape[1])]  # Beneficial criteria\n",
    "\n",
    "   \n",
    "    weighted_matrix = norm_matrix * weights\n",
    "\n",
    "    \n",
    "    ideal_best = np.max(weighted_matrix, axis=0)\n",
    "    ideal_worst = np.min(weighted_matrix, axis=0)\n",
    "\n",
    " \n",
    "    separation_best = np.sqrt(((weighted_matrix - ideal_best) ** 2).sum(axis=1))\n",
    "    separation_worst = np.sqrt(((weighted_matrix - ideal_worst) ** 2).sum(axis=1))\n",
    "\n",
    "    topsis_score = separation_worst / (separation_best + separation_worst)\n",
    "\n",
    "    \n",
    "    ranks = topsis_score.argsort()[::-1] + 1\n",
    "\n",
    "    \n",
    "    output_df = df.copy()\n",
    "    output_df[\"Topsis Score\"] = topsis_score\n",
    "    output_df[\"Rank\"] = ranks\n",
    "\n",
    "    print(output_df)\n",
    "   \n",
    "    output_df.to_csv(output_file, index=False)\n",
    "\n",
    "# Input and output file paths\n",
    "input_file = 'C:\\\\Users\\\\ydhar\\\\Downloads\\\\102203575-data.csv'\n",
    "output_file = 'C:\\\\Users\\\\ydhar\\\\Downloads\\\\topsis_output.csv'\n",
    "\n",
    "# Perform TOPSIS\n",
    "topsis(input_file, output_file)\n",
    "\n",
    "print(f\"TOPSIS analysis complete. Output saved to {output_file}.\")\n"
   ]
  },
  {
   "cell_type": "code",
   "execution_count": null,
   "id": "06ac4a47-1be4-4821-bd79-188b23bdf37e",
   "metadata": {},
   "outputs": [],
   "source": []
  },
  {
   "cell_type": "code",
   "execution_count": null,
   "id": "d03dd048-d409-4e0b-8490-7f64e207292e",
   "metadata": {},
   "outputs": [],
   "source": []
  }
 ],
 "metadata": {
  "kernelspec": {
   "display_name": "Python 3 (ipykernel)",
   "language": "python",
   "name": "python3"
  },
  "language_info": {
   "codemirror_mode": {
    "name": "ipython",
    "version": 3
   },
   "file_extension": ".py",
   "mimetype": "text/x-python",
   "name": "python",
   "nbconvert_exporter": "python",
   "pygments_lexer": "ipython3",
   "version": "3.12.4"
  }
 },
 "nbformat": 4,
 "nbformat_minor": 5
}
